{
 "cells": [
  {
   "cell_type": "code",
   "execution_count": 1,
   "metadata": {
    "colab": {
     "base_uri": "https://localhost:8080/"
    },
    "executionInfo": {
     "elapsed": 1218,
     "status": "ok",
     "timestamp": 1617448400368,
     "user": {
      "displayName": "anant deora",
      "photoUrl": "https://lh3.googleusercontent.com/a-/AOh14GjY8NoW2uQzIdrTOhCnXdV3F655LNV8IgjJOYloGw=s64",
      "userId": "10102770296076671644"
     },
     "user_tz": -330
    },
    "id": "rAwoyIu3f4lX",
    "outputId": "61a6648e-a1f2-450e-83d6-05a63137f22b"
   },
   "outputs": [
    {
     "name": "stdout",
     "output_type": "stream",
     "text": [
      "Drive already mounted at /content/gdrive; to attempt to forcibly remount, call drive.mount(\"/content/gdrive\", force_remount=True).\n"
     ]
    }
   ],
   "source": [
    "from google.colab import drive\n",
    "drive.mount('/content/gdrive')"
   ]
  },
  {
   "cell_type": "markdown",
   "metadata": {
    "id": "JW_usihuivvb"
   },
   "source": [
    "## Review Sentiment Classifier: Multinomial Naive Bayes\n",
    "\n",
    "The notebook is divided into the following sections:\n",
    "1. Importing and preprocessing data\n",
    "2. Building the model: Multinomial Naive Bayes\n",
    "    - Model building \n",
    "    - Model evaluation"
   ]
  },
  {
   "cell_type": "markdown",
   "metadata": {
    "id": "MMeMEvBKi6to"
   },
   "source": [
    "### 1. Importing and Preprocessing Data"
   ]
  },
  {
   "cell_type": "code",
   "execution_count": 2,
   "metadata": {
    "colab": {
     "base_uri": "https://localhost:8080/"
    },
    "executionInfo": {
     "elapsed": 2822,
     "status": "ok",
     "timestamp": 1617448401979,
     "user": {
      "displayName": "anant deora",
      "photoUrl": "https://lh3.googleusercontent.com/a-/AOh14GjY8NoW2uQzIdrTOhCnXdV3F655LNV8IgjJOYloGw=s64",
      "userId": "10102770296076671644"
     },
     "user_tz": -330
    },
    "id": "IkmIQUSogB2t",
    "outputId": "6adc6865-ed6f-4b54-cc4e-81888499302c"
   },
   "outputs": [
    {
     "name": "stdout",
     "output_type": "stream",
     "text": [
      "[nltk_data] Downloading package punkt to /root/nltk_data...\n",
      "[nltk_data]   Package punkt is already up-to-date!\n",
      "[nltk_data] Downloading package wordnet to /root/nltk_data...\n",
      "[nltk_data]   Package wordnet is already up-to-date!\n",
      "[nltk_data] Downloading package stopwords to /root/nltk_data...\n",
      "[nltk_data]   Package stopwords is already up-to-date!\n"
     ]
    }
   ],
   "source": [
    "#importing libraries\n",
    "import numpy as np\n",
    "import pandas as pd\n",
    "import matplotlib.pyplot as plt\n",
    "%matplotlib inline\n",
    "import seaborn as sns\n",
    "import re\n",
    "import sklearn\n",
    "import nltk\n",
    "nltk.download('punkt')\n",
    "nltk.download('wordnet')\n",
    "from nltk import FreqDist\n",
    "nltk.download('stopwords')\n",
    "from nltk.corpus import stopwords\n",
    "from nltk.tokenize import word_tokenize\n",
    "from nltk.stem import WordNetLemmatizer\n",
    "from sklearn.feature_extraction.text import TfidfVectorizer"
   ]
  },
  {
   "cell_type": "code",
   "execution_count": 3,
   "metadata": {
    "executionInfo": {
     "elapsed": 2821,
     "status": "ok",
     "timestamp": 1617448401980,
     "user": {
      "displayName": "anant deora",
      "photoUrl": "https://lh3.googleusercontent.com/a-/AOh14GjY8NoW2uQzIdrTOhCnXdV3F655LNV8IgjJOYloGw=s64",
      "userId": "10102770296076671644"
     },
     "user_tz": -330
    },
    "id": "MaZ7oI1FgOZp"
   },
   "outputs": [],
   "source": [
    "# Suppressing Warnings\n",
    "import warnings\n",
    "warnings.filterwarnings('ignore')"
   ]
  },
  {
   "cell_type": "code",
   "execution_count": 4,
   "metadata": {
    "colab": {
     "base_uri": "https://localhost:8080/",
     "height": 279
    },
    "executionInfo": {
     "elapsed": 13040,
     "status": "ok",
     "timestamp": 1617448412205,
     "user": {
      "displayName": "anant deora",
      "photoUrl": "https://lh3.googleusercontent.com/a-/AOh14GjY8NoW2uQzIdrTOhCnXdV3F655LNV8IgjJOYloGw=s64",
      "userId": "10102770296076671644"
     },
     "user_tz": -330
    },
    "id": "Wj4FLj-PgSm8",
    "outputId": "17aae1e9-9c96-4637-8bb5-b928d8ecd935"
   },
   "outputs": [
    {
     "data": {
      "text/html": [
       "<div>\n",
       "<style scoped>\n",
       "    .dataframe tbody tr th:only-of-type {\n",
       "        vertical-align: middle;\n",
       "    }\n",
       "\n",
       "    .dataframe tbody tr th {\n",
       "        vertical-align: top;\n",
       "    }\n",
       "\n",
       "    .dataframe thead th {\n",
       "        text-align: right;\n",
       "    }\n",
       "</style>\n",
       "<table border=\"1\" class=\"dataframe\">\n",
       "  <thead>\n",
       "    <tr style=\"text-align: right;\">\n",
       "      <th></th>\n",
       "      <th>overall</th>\n",
       "      <th>verified</th>\n",
       "      <th>reviewerID</th>\n",
       "      <th>asin</th>\n",
       "      <th>style</th>\n",
       "      <th>reviewerName</th>\n",
       "      <th>reviewText</th>\n",
       "      <th>summary</th>\n",
       "      <th>unixReviewTime</th>\n",
       "      <th>vote</th>\n",
       "      <th>image</th>\n",
       "      <th>review_sentiment</th>\n",
       "    </tr>\n",
       "  </thead>\n",
       "  <tbody>\n",
       "    <tr>\n",
       "      <th>0</th>\n",
       "      <td>5.0</td>\n",
       "      <td>True</td>\n",
       "      <td>A24E3SXTC62LJI</td>\n",
       "      <td>7508492919</td>\n",
       "      <td>{'Color:': ' Bling'}</td>\n",
       "      <td>Claudia Valdivia</td>\n",
       "      <td>Looks even better in person. Be careful to not...</td>\n",
       "      <td>Can't stop won't stop looking at it</td>\n",
       "      <td>1407110400</td>\n",
       "      <td>NaN</td>\n",
       "      <td>NaN</td>\n",
       "      <td>POSITIVE</td>\n",
       "    </tr>\n",
       "    <tr>\n",
       "      <th>1</th>\n",
       "      <td>5.0</td>\n",
       "      <td>True</td>\n",
       "      <td>A269FLZCB4GIPV</td>\n",
       "      <td>7508492919</td>\n",
       "      <td>NaN</td>\n",
       "      <td>sarah ponce</td>\n",
       "      <td>When you don't want to spend a whole lot of ca...</td>\n",
       "      <td>1</td>\n",
       "      <td>1392163200</td>\n",
       "      <td>NaN</td>\n",
       "      <td>NaN</td>\n",
       "      <td>POSITIVE</td>\n",
       "    </tr>\n",
       "    <tr>\n",
       "      <th>2</th>\n",
       "      <td>3.0</td>\n",
       "      <td>True</td>\n",
       "      <td>AB6CHQWHZW4TV</td>\n",
       "      <td>7508492919</td>\n",
       "      <td>NaN</td>\n",
       "      <td>Kai</td>\n",
       "      <td>so the case came on time, i love the design. I...</td>\n",
       "      <td>Its okay</td>\n",
       "      <td>1391817600</td>\n",
       "      <td>NaN</td>\n",
       "      <td>NaN</td>\n",
       "      <td>NEGATIVE</td>\n",
       "    </tr>\n",
       "    <tr>\n",
       "      <th>3</th>\n",
       "      <td>2.0</td>\n",
       "      <td>True</td>\n",
       "      <td>A1M117A53LEI8</td>\n",
       "      <td>7508492919</td>\n",
       "      <td>NaN</td>\n",
       "      <td>Sharon Williams</td>\n",
       "      <td>DON'T CARE FOR IT.  GAVE IT AS A GIFT AND THEY...</td>\n",
       "      <td>CASE</td>\n",
       "      <td>1391472000</td>\n",
       "      <td>NaN</td>\n",
       "      <td>NaN</td>\n",
       "      <td>POSITIVE</td>\n",
       "    </tr>\n",
       "    <tr>\n",
       "      <th>4</th>\n",
       "      <td>4.0</td>\n",
       "      <td>True</td>\n",
       "      <td>A272DUT8M88ZS8</td>\n",
       "      <td>7508492919</td>\n",
       "      <td>NaN</td>\n",
       "      <td>Bella Rodriguez</td>\n",
       "      <td>I liked it because it was cute, but the studs ...</td>\n",
       "      <td>Cute!</td>\n",
       "      <td>1391385600</td>\n",
       "      <td>NaN</td>\n",
       "      <td>NaN</td>\n",
       "      <td>POSITIVE</td>\n",
       "    </tr>\n",
       "  </tbody>\n",
       "</table>\n",
       "</div>"
      ],
      "text/plain": [
       "   overall  verified      reviewerID  ... vote image review_sentiment\n",
       "0      5.0      True  A24E3SXTC62LJI  ...  NaN   NaN         POSITIVE\n",
       "1      5.0      True  A269FLZCB4GIPV  ...  NaN   NaN         POSITIVE\n",
       "2      3.0      True   AB6CHQWHZW4TV  ...  NaN   NaN         NEGATIVE\n",
       "3      2.0      True   A1M117A53LEI8  ...  NaN   NaN         POSITIVE\n",
       "4      4.0      True  A272DUT8M88ZS8  ...  NaN   NaN         POSITIVE\n",
       "\n",
       "[5 rows x 12 columns]"
      ]
     },
     "execution_count": 4,
     "metadata": {
      "tags": []
     },
     "output_type": "execute_result"
    }
   ],
   "source": [
    "df = pd.read_csv('/content/gdrive/MyDrive/Capstone_Project_Data/Cell_Phones_and_Accessories_5.csv')\n",
    "df.head()"
   ]
  },
  {
   "cell_type": "code",
   "execution_count": 5,
   "metadata": {
    "executionInfo": {
     "elapsed": 13659,
     "status": "ok",
     "timestamp": 1617448412826,
     "user": {
      "displayName": "anant deora",
      "photoUrl": "https://lh3.googleusercontent.com/a-/AOh14GjY8NoW2uQzIdrTOhCnXdV3F655LNV8IgjJOYloGw=s64",
      "userId": "10102770296076671644"
     },
     "user_tz": -330
    },
    "id": "58WPtLxOgdNL"
   },
   "outputs": [],
   "source": [
    "df = df.loc[~pd.isnull(df['reviewText'])]"
   ]
  },
  {
   "cell_type": "code",
   "execution_count": 6,
   "metadata": {
    "colab": {
     "base_uri": "https://localhost:8080/"
    },
    "executionInfo": {
     "elapsed": 13655,
     "status": "ok",
     "timestamp": 1617448412828,
     "user": {
      "displayName": "anant deora",
      "photoUrl": "https://lh3.googleusercontent.com/a-/AOh14GjY8NoW2uQzIdrTOhCnXdV3F655LNV8IgjJOYloGw=s64",
      "userId": "10102770296076671644"
     },
     "user_tz": -330
    },
    "id": "uXBs0nxIgpud",
    "outputId": "e748fbb9-cecd-48e8-f3ee-41342e7b7dd8"
   },
   "outputs": [
    {
     "data": {
      "text/plain": [
       "1127669"
      ]
     },
     "execution_count": 6,
     "metadata": {
      "tags": []
     },
     "output_type": "execute_result"
    }
   ],
   "source": [
    "len(df.index)"
   ]
  },
  {
   "cell_type": "code",
   "execution_count": 7,
   "metadata": {
    "colab": {
     "base_uri": "https://localhost:8080/",
     "height": 195
    },
    "executionInfo": {
     "elapsed": 13650,
     "status": "ok",
     "timestamp": 1617448412829,
     "user": {
      "displayName": "anant deora",
      "photoUrl": "https://lh3.googleusercontent.com/a-/AOh14GjY8NoW2uQzIdrTOhCnXdV3F655LNV8IgjJOYloGw=s64",
      "userId": "10102770296076671644"
     },
     "user_tz": -330
    },
    "id": "y5IAQW8rg2uu",
    "outputId": "726447c9-b150-4463-dd53-e9af06a5a372"
   },
   "outputs": [
    {
     "data": {
      "text/html": [
       "<div>\n",
       "<style scoped>\n",
       "    .dataframe tbody tr th:only-of-type {\n",
       "        vertical-align: middle;\n",
       "    }\n",
       "\n",
       "    .dataframe tbody tr th {\n",
       "        vertical-align: top;\n",
       "    }\n",
       "\n",
       "    .dataframe thead th {\n",
       "        text-align: right;\n",
       "    }\n",
       "</style>\n",
       "<table border=\"1\" class=\"dataframe\">\n",
       "  <thead>\n",
       "    <tr style=\"text-align: right;\">\n",
       "      <th></th>\n",
       "      <th>reviewText</th>\n",
       "      <th>reviewSentiment</th>\n",
       "    </tr>\n",
       "  </thead>\n",
       "  <tbody>\n",
       "    <tr>\n",
       "      <th>0</th>\n",
       "      <td>Looks even better in person. Be careful to not...</td>\n",
       "      <td>POSITIVE</td>\n",
       "    </tr>\n",
       "    <tr>\n",
       "      <th>1</th>\n",
       "      <td>When you don't want to spend a whole lot of ca...</td>\n",
       "      <td>POSITIVE</td>\n",
       "    </tr>\n",
       "    <tr>\n",
       "      <th>2</th>\n",
       "      <td>so the case came on time, i love the design. I...</td>\n",
       "      <td>NEGATIVE</td>\n",
       "    </tr>\n",
       "    <tr>\n",
       "      <th>3</th>\n",
       "      <td>DON'T CARE FOR IT.  GAVE IT AS A GIFT AND THEY...</td>\n",
       "      <td>POSITIVE</td>\n",
       "    </tr>\n",
       "    <tr>\n",
       "      <th>4</th>\n",
       "      <td>I liked it because it was cute, but the studs ...</td>\n",
       "      <td>POSITIVE</td>\n",
       "    </tr>\n",
       "  </tbody>\n",
       "</table>\n",
       "</div>"
      ],
      "text/plain": [
       "                                          reviewText reviewSentiment\n",
       "0  Looks even better in person. Be careful to not...        POSITIVE\n",
       "1  When you don't want to spend a whole lot of ca...        POSITIVE\n",
       "2  so the case came on time, i love the design. I...        NEGATIVE\n",
       "3  DON'T CARE FOR IT.  GAVE IT AS A GIFT AND THEY...        POSITIVE\n",
       "4  I liked it because it was cute, but the studs ...        POSITIVE"
      ]
     },
     "execution_count": 7,
     "metadata": {
      "tags": []
     },
     "output_type": "execute_result"
    }
   ],
   "source": [
    "doc = pd.DataFrame()\n",
    "doc['reviewText'] = df['reviewText']\n",
    "doc['reviewSentiment'] = df['review_sentiment']\n",
    "doc.head()"
   ]
  },
  {
   "cell_type": "code",
   "execution_count": 8,
   "metadata": {
    "colab": {
     "base_uri": "https://localhost:8080/"
    },
    "executionInfo": {
     "elapsed": 13645,
     "status": "ok",
     "timestamp": 1617448412829,
     "user": {
      "displayName": "anant deora",
      "photoUrl": "https://lh3.googleusercontent.com/a-/AOh14GjY8NoW2uQzIdrTOhCnXdV3F655LNV8IgjJOYloGw=s64",
      "userId": "10102770296076671644"
     },
     "user_tz": -330
    },
    "id": "QwP0ftiIg-dI",
    "outputId": "5645282f-dfeb-49bb-f040-1fc2cecc1706"
   },
   "outputs": [
    {
     "data": {
      "text/plain": [
       "POSITIVE    884900\n",
       "NEGATIVE    242769\n",
       "Name: reviewSentiment, dtype: int64"
      ]
     },
     "execution_count": 8,
     "metadata": {
      "tags": []
     },
     "output_type": "execute_result"
    }
   ],
   "source": [
    "sentiment = doc.reviewSentiment.value_counts()\n",
    "sentiment"
   ]
  },
  {
   "cell_type": "code",
   "execution_count": 9,
   "metadata": {
    "colab": {
     "base_uri": "https://localhost:8080/"
    },
    "executionInfo": {
     "elapsed": 13640,
     "status": "ok",
     "timestamp": 1617448412830,
     "user": {
      "displayName": "anant deora",
      "photoUrl": "https://lh3.googleusercontent.com/a-/AOh14GjY8NoW2uQzIdrTOhCnXdV3F655LNV8IgjJOYloGw=s64",
      "userId": "10102770296076671644"
     },
     "user_tz": -330
    },
    "id": "Fd_nbn5YhD6B",
    "outputId": "858ae22f-a5c9-416b-de79-53d8b3748d92"
   },
   "outputs": [
    {
     "name": "stdout",
     "output_type": "stream",
     "text": [
      "Postive reviews are about 78%\n"
     ]
    }
   ],
   "source": [
    "print(\"Postive reviews are about {0}%\".format(\n",
    "    round((sentiment[0]/float(sentiment[0]+sentiment[1]))*100), 2))"
   ]
  },
  {
   "cell_type": "code",
   "execution_count": 10,
   "metadata": {
    "colab": {
     "base_uri": "https://localhost:8080/",
     "height": 195
    },
    "executionInfo": {
     "elapsed": 13635,
     "status": "ok",
     "timestamp": 1617448412831,
     "user": {
      "displayName": "anant deora",
      "photoUrl": "https://lh3.googleusercontent.com/a-/AOh14GjY8NoW2uQzIdrTOhCnXdV3F655LNV8IgjJOYloGw=s64",
      "userId": "10102770296076671644"
     },
     "user_tz": -330
    },
    "id": "ssMxu_qnhN7r",
    "outputId": "0b89d3e2-d65b-4814-efc9-4e042c65b598"
   },
   "outputs": [
    {
     "data": {
      "text/html": [
       "<div>\n",
       "<style scoped>\n",
       "    .dataframe tbody tr th:only-of-type {\n",
       "        vertical-align: middle;\n",
       "    }\n",
       "\n",
       "    .dataframe tbody tr th {\n",
       "        vertical-align: top;\n",
       "    }\n",
       "\n",
       "    .dataframe thead th {\n",
       "        text-align: right;\n",
       "    }\n",
       "</style>\n",
       "<table border=\"1\" class=\"dataframe\">\n",
       "  <thead>\n",
       "    <tr style=\"text-align: right;\">\n",
       "      <th></th>\n",
       "      <th>reviewText</th>\n",
       "      <th>label</th>\n",
       "    </tr>\n",
       "  </thead>\n",
       "  <tbody>\n",
       "    <tr>\n",
       "      <th>0</th>\n",
       "      <td>Looks even better in person. Be careful to not...</td>\n",
       "      <td>1</td>\n",
       "    </tr>\n",
       "    <tr>\n",
       "      <th>1</th>\n",
       "      <td>When you don't want to spend a whole lot of ca...</td>\n",
       "      <td>1</td>\n",
       "    </tr>\n",
       "    <tr>\n",
       "      <th>2</th>\n",
       "      <td>so the case came on time, i love the design. I...</td>\n",
       "      <td>0</td>\n",
       "    </tr>\n",
       "    <tr>\n",
       "      <th>3</th>\n",
       "      <td>DON'T CARE FOR IT.  GAVE IT AS A GIFT AND THEY...</td>\n",
       "      <td>1</td>\n",
       "    </tr>\n",
       "    <tr>\n",
       "      <th>4</th>\n",
       "      <td>I liked it because it was cute, but the studs ...</td>\n",
       "      <td>1</td>\n",
       "    </tr>\n",
       "  </tbody>\n",
       "</table>\n",
       "</div>"
      ],
      "text/plain": [
       "                                          reviewText  label\n",
       "0  Looks even better in person. Be careful to not...      1\n",
       "1  When you don't want to spend a whole lot of ca...      1\n",
       "2  so the case came on time, i love the design. I...      0\n",
       "3  DON'T CARE FOR IT.  GAVE IT AS A GIFT AND THEY...      1\n",
       "4  I liked it because it was cute, but the studs ...      1"
      ]
     },
     "execution_count": 10,
     "metadata": {
      "tags": []
     },
     "output_type": "execute_result"
    }
   ],
   "source": [
    "doc['label']=doc['reviewSentiment'].map({'POSITIVE':1,'NEGATIVE':0})\n",
    "doc = doc.drop('reviewSentiment', axis=1)\n",
    "doc.head()"
   ]
  },
  {
   "cell_type": "code",
   "execution_count": 11,
   "metadata": {
    "colab": {
     "base_uri": "https://localhost:8080/"
    },
    "executionInfo": {
     "elapsed": 13629,
     "status": "ok",
     "timestamp": 1617448412831,
     "user": {
      "displayName": "anant deora",
      "photoUrl": "https://lh3.googleusercontent.com/a-/AOh14GjY8NoW2uQzIdrTOhCnXdV3F655LNV8IgjJOYloGw=s64",
      "userId": "10102770296076671644"
     },
     "user_tz": -330
    },
    "id": "CcGMwMJPmhEf",
    "outputId": "cc3c5bad-7a88-4c23-abae-0be939528439"
   },
   "outputs": [
    {
     "name": "stdout",
     "output_type": "stream",
     "text": [
      "(1127669,)\n",
      "(1127669,)\n"
     ]
    }
   ],
   "source": [
    "# convert to X and y\n",
    "X = doc.reviewText\n",
    "y = doc.label\n",
    "print(X.shape)\n",
    "print(y.shape)"
   ]
  },
  {
   "cell_type": "code",
   "execution_count": 12,
   "metadata": {
    "executionInfo": {
     "elapsed": 14622,
     "status": "ok",
     "timestamp": 1617448413826,
     "user": {
      "displayName": "anant deora",
      "photoUrl": "https://lh3.googleusercontent.com/a-/AOh14GjY8NoW2uQzIdrTOhCnXdV3F655LNV8IgjJOYloGw=s64",
      "userId": "10102770296076671644"
     },
     "user_tz": -330
    },
    "id": "0pg6UYdkm0X6"
   },
   "outputs": [],
   "source": [
    "# splitting into test and train\n",
    "from sklearn.model_selection  import train_test_split\n",
    "X_train, X_test, y_train, y_test = train_test_split(X, y, random_state=1)"
   ]
  },
  {
   "cell_type": "code",
   "execution_count": 13,
   "metadata": {
    "colab": {
     "base_uri": "https://localhost:8080/"
    },
    "executionInfo": {
     "elapsed": 14617,
     "status": "ok",
     "timestamp": 1617448413828,
     "user": {
      "displayName": "anant deora",
      "photoUrl": "https://lh3.googleusercontent.com/a-/AOh14GjY8NoW2uQzIdrTOhCnXdV3F655LNV8IgjJOYloGw=s64",
      "userId": "10102770296076671644"
     },
     "user_tz": -330
    },
    "id": "lqg_R0eIl6mB",
    "outputId": "7e282620-f4d4-4f7c-9b11-3ccb27f75dcc"
   },
   "outputs": [
    {
     "name": "stdout",
     "output_type": "stream",
     "text": [
      "['Good product', \"I have had so much trouble with armbands in the past, but this one works like a charm! It doesn't chaff or burn my arm and it fits really snug. The overall desin of the armband is cute, too.\", 'works well fast charge I would buy again if need but would like the one that will hold a charge', \"Great for bike riding,walking,doing the dishes,etc. . The price was perfect and it's my phone nicely every time. Also arrived early,the Velcro holds very nicely but if you small arms then this will be difficult cause the strap isn't made for small arms. Other than that. I'm glad I bought it.\", \"I've had the SPIGEN GLAS.t for my iPhone 5 and it was wonderful, which is why i'm so surprised by the subpar quality of this version for the HTC One. First of all the edges aren't beveled like the one for iPhone 5 so you have a very sharp edge that you feel every time you run your finger off the screen. The fit from top to bottom provides nearly 100% coverage of the screen but the side to side coverage leaves quite a bit of screen exposed. I guess that's a good thing because it makes the unneccessariily sharp edges of the glass less exposed and prevents your finger from getting sliced. I'm going to give SPIGEN the benefit of th doubt and chalk up the poor fit from side to side as a design flaw that hides their subpar craftsmanship.\", 'This is the only way to go. You save so much money and you can bring the phone you want to this network. It is so easy to do and you can do it online.', 'Removing the phone from case and putting in back is very difficult. Very tight. Not recommended', 'Has been worth the money.', 'Great product', 'I really liked this case. Doesnt provide lot of protection from drops but I loved that the magnet could be placed on the inside without compromising the fit of the phone. Used this case in conjunction with the Air vent accessory.']\n",
      "['A spectacular case! I used it until I dropped my phone at work. The case broke, but my phone was perfectly fine! I am pleased to recommend this to any phone user!', 'Very useful to me easy to use feels good in my hand no sign of wear yet after almost two months', 'good solid protection', \"this cellphone is very bad the seller send me this cellphone with problems in first time in call this hot very very hot. don't buy this! in this moment the cell not turn on...\\n\\nNO COMPRE ESTO ESTE TELEFONO LO MANDAN A VENEZUELA DEFECTUOS, claro como uno no es de usa ellos mandan las cosas malas a nuestro pais\", 'Extraordinarios. Funciona muy bien con dos lneas. La recepcin es Excelente! Feliz de comprarlo.', 'All i can say is wow, this a great screen protector and I have always trusted zagg for all of my devices', 'I have found nothing to say bad, but also that this is a cover for the screen, What can you expect for the price you pay.', \"Words cannot describe how nice this phone is.  I bought this phone to upgrade from another Samsung Galaxy and let me tell you, this baby is a charm.  It came well packaged, BRAND NEW, with DUAL SIM SLOT, the battery was half way charged, and the set up was a breeze. It's much faster to boot up, to download apps, and access the internet than my previous smartphone.  It's full of features such as the GPS which works with military precision, and a slew of other widgets and stuff that can actually enhance your smartphone experience if not your life.  Would I recommend this phone to a friend?  YES,  without hesitation.  I read some poor reviews on this site about this product, honestly, I don't know what these folks are talking about because my experience with this phone so far has been GREAT.  I will update this review  as time goes by and in the event that I encounter any malfunction or mishaps with the phone.\", 'I purchased this unit with my new Nokia through AT&T.  It functions as advertised and I would probably have rated it at least as average except for a most unforgivable feature.  The unit has a single rocker switch that is used for turning the unit off, accepting or canceling a call, and redialing the last number called.  So I have TOO MANY times actually redialed the last number when I thought I was turning it off.  I am sure I could receive electroshock therapy to correctly learn the right method, but it is not intuitive.  I use the phone for business so I cannot risk annoying a customer or vendor with this idiosyncrasy.', \"This case didn't last long.  I bought into the Otterbox hype and purchased these for my and my wife's phones.  Neither lasted long.  They were replaced for free by otterbox, but after the third one I figured there was something better out there.  I was right.\\n\\nI've replaced all my otterboxes with other brand cases.  The Dualtek and Speck cases are much better for about 1/2 the price.  Sure, they have a great warranty, but if they are so much more expensive than others, aren't you really just paying for the replacements up front?\\n\\nMy recommendation is to stay away from the commuter series otterbox.\"]\n"
     ]
    }
   ],
   "source": [
    "# convert messages into list\n",
    "X_train = [review for review in X_train]\n",
    "X_test = [review for review in X_test]\n",
    "print(X_train[0:10])\n",
    "print(X_test[0:10])"
   ]
  },
  {
   "cell_type": "code",
   "execution_count": 14,
   "metadata": {
    "colab": {
     "base_uri": "https://localhost:8080/"
    },
    "executionInfo": {
     "elapsed": 14613,
     "status": "ok",
     "timestamp": 1617448413829,
     "user": {
      "displayName": "anant deora",
      "photoUrl": "https://lh3.googleusercontent.com/a-/AOh14GjY8NoW2uQzIdrTOhCnXdV3F655LNV8IgjJOYloGw=s64",
      "userId": "10102770296076671644"
     },
     "user_tz": -330
    },
    "id": "yUn0C4mkpt6J",
    "outputId": "4719ec3f-2832-41b5-e9c9-b42566209d3b"
   },
   "outputs": [
    {
     "name": "stdout",
     "output_type": "stream",
     "text": [
      "['a', 'about', 'above', 'across', 'after', 'again', 'all', 'almost', 'alone', 'along']\n",
      "399\n"
     ]
    }
   ],
   "source": [
    "# importing own list of stop words\n",
    "stop_words_long = [line.rstrip('\\n') for line in open('/content/gdrive/MyDrive/Capstone_Project_Data/stop_words_long.txt')]\n",
    "print(stop_words_long[0:10])\n",
    "print(len(stop_words_long))"
   ]
  },
  {
   "cell_type": "code",
   "execution_count": 17,
   "metadata": {
    "executionInfo": {
     "elapsed": 999,
     "status": "ok",
     "timestamp": 1617450723546,
     "user": {
      "displayName": "anant deora",
      "photoUrl": "https://lh3.googleusercontent.com/a-/AOh14GjY8NoW2uQzIdrTOhCnXdV3F655LNV8IgjJOYloGw=s64",
      "userId": "10102770296076671644"
     },
     "user_tz": -330
    },
    "id": "VH1DGFMaWG4a"
   },
   "outputs": [],
   "source": [
    "stop = list(stopwords.words('english'))\n",
    "stop.extend(stop_words_long)"
   ]
  },
  {
   "cell_type": "code",
   "execution_count": 16,
   "metadata": {
    "colab": {
     "base_uri": "https://localhost:8080/"
    },
    "executionInfo": {
     "elapsed": 810064,
     "status": "ok",
     "timestamp": 1617449229654,
     "user": {
      "displayName": "anant deora",
      "photoUrl": "https://lh3.googleusercontent.com/a-/AOh14GjY8NoW2uQzIdrTOhCnXdV3F655LNV8IgjJOYloGw=s64",
      "userId": "10102770296076671644"
     },
     "user_tz": -330
    },
    "id": "NkbHGG7fiS6M",
    "outputId": "d2ec989d-6bf8-437e-b1d5-6cf6dcb57d25"
   },
   "outputs": [
    {
     "name": "stdout",
     "output_type": "stream",
     "text": [
      "['good product', \"i have had so much trouble with armband in the past , but this one work like a charm ! it doe n't chaff or burn my arm and it fit really snug . the overall desin of the armband is cute , too .\", 'work well fast charge i would buy again if need but would like the one that will hold a charge', \"great for bike riding , walking , doing the dish , etc . . the price wa perfect and it 's my phone nicely every time . also arrived early , the velcro hold very nicely but if you small arm then this will be difficult cause the strap is n't made for small arm . other than that . i 'm glad i bought it .\", \"i 've had the spigen glas.t for my iphone 5 and it wa wonderful , which is why i 'm so surprised by the subpar quality of this version for the htc one . first of all the edge are n't beveled like the one for iphone 5 so you have a very sharp edge that you feel every time you run your finger off the screen . the fit from top to bottom provides nearly 100 % coverage of the screen but the side to side coverage leaf quite a bit of screen exposed . i guess that 's a good thing because it make the unneccessariily sharp edge of the glass le exposed and prevents your finger from getting sliced . i 'm going to give spigen the benefit of th doubt and chalk up the poor fit from side to side a a design flaw that hide their subpar craftsmanship .\", 'this is the only way to go . you save so much money and you can bring the phone you want to this network . it is so easy to do and you can do it online .', 'removing the phone from case and putting in back is very difficult . very tight . not recommended', 'ha been worth the money .', 'great product', 'i really liked this case . doesnt provide lot of protection from drop but i loved that the magnet could be placed on the inside without compromising the fit of the phone . used this case in conjunction with the air vent accessory .']\n",
      "['a spectacular case ! i used it until i dropped my phone at work . the case broke , but my phone wa perfectly fine ! i am pleased to recommend this to any phone user !', 'very useful to me easy to use feel good in my hand no sign of wear yet after almost two month', 'good solid protection', \"this cellphone is very bad the seller send me this cellphone with problem in first time in call this hot very very hot . do n't buy this ! in this moment the cell not turn on ... no compre esto este telefono lo mandan a venezuela defectuos , claro como uno no e de usa ellos mandan la cosas malas a nuestro pais\", 'extraordinarios . funciona muy bien con do lneas . la recepcin e excelente ! feliz de comprarlo .', 'all i can say is wow , this a great screen protector and i have always trusted zagg for all of my device', 'i have found nothing to say bad , but also that this is a cover for the screen , what can you expect for the price you pay .', \"word can not describe how nice this phone is . i bought this phone to upgrade from another samsung galaxy and let me tell you , this baby is a charm . it came well packaged , brand new , with dual sim slot , the battery wa half way charged , and the set up wa a breeze . it 's much faster to boot up , to download apps , and access the internet than my previous smartphone . it 's full of feature such a the gps which work with military precision , and a slew of other widget and stuff that can actually enhance your smartphone experience if not your life . would i recommend this phone to a friend ? yes , without hesitation . i read some poor review on this site about this product , honestly , i do n't know what these folk are talking about because my experience with this phone so far ha been great . i will update this review a time go by and in the event that i encounter any malfunction or mishap with the phone .\", 'i purchased this unit with my new nokia through at & t . it function a advertised and i would probably have rated it at least a average except for a most unforgivable feature . the unit ha a single rocker switch that is used for turning the unit off , accepting or canceling a call , and redialing the last number called . so i have too many time actually redialed the last number when i thought i wa turning it off . i am sure i could receive electroshock therapy to correctly learn the right method , but it is not intuitive . i use the phone for business so i can not risk annoying a customer or vendor with this idiosyncrasy .', \"this case did n't last long . i bought into the otterbox hype and purchased these for my and my wife 's phone . neither lasted long . they were replaced for free by otterbox , but after the third one i figured there wa something better out there . i wa right . i 've replaced all my otterboxes with other brand case . the dualtek and speck case are much better for about 1/2 the price . sure , they have a great warranty , but if they are so much more expensive than others , are n't you really just paying for the replacement up front ? my recommendation is to stay away from the commuter series otterbox .\"]\n"
     ]
    }
   ],
   "source": [
    "wordnet_lemmatizer = WordNetLemmatizer()\n",
    "def preprocess(document):\n",
    "    'changes document to lower case and removes stopwords'\n",
    "\n",
    "    # change sentence to lower case\n",
    "    document = document.lower()\n",
    "\n",
    "    # tokenize into words\n",
    "    words = word_tokenize(document)\n",
    "\n",
    "    words = [wordnet_lemmatizer.lemmatize(word) for word in words]\n",
    "\n",
    "    # join words to make sentence\n",
    "    document = \" \".join(words)\n",
    "    \n",
    "    return document\n",
    "\n",
    "X_train = [preprocess(review) for review in X_train]\n",
    "X_test = [preprocess(review) for review in X_test]\n",
    "print(X_train[0:10])\n",
    "print(X_test[0:10])\n"
   ]
  },
  {
   "cell_type": "code",
   "execution_count": 18,
   "metadata": {
    "executionInfo": {
     "elapsed": 936,
     "status": "ok",
     "timestamp": 1617450731474,
     "user": {
      "displayName": "anant deora",
      "photoUrl": "https://lh3.googleusercontent.com/a-/AOh14GjY8NoW2uQzIdrTOhCnXdV3F655LNV8IgjJOYloGw=s64",
      "userId": "10102770296076671644"
     },
     "user_tz": -330
    },
    "id": "0ClY1EAbqZTQ"
   },
   "outputs": [],
   "source": [
    "# vectorizing the sentences; removing stop words\n",
    "vectorizer = TfidfVectorizer(analyzer = 'word',stop_words=set(stop))"
   ]
  },
  {
   "cell_type": "code",
   "execution_count": 19,
   "metadata": {
    "colab": {
     "base_uri": "https://localhost:8080/"
    },
    "executionInfo": {
     "elapsed": 31012,
     "status": "ok",
     "timestamp": 1617450780452,
     "user": {
      "displayName": "anant deora",
      "photoUrl": "https://lh3.googleusercontent.com/a-/AOh14GjY8NoW2uQzIdrTOhCnXdV3F655LNV8IgjJOYloGw=s64",
      "userId": "10102770296076671644"
     },
     "user_tz": -330
    },
    "id": "Rr70Q_WKk4Pr",
    "outputId": "a64e262b-237e-4811-b7df-0c13c4884968"
   },
   "outputs": [
    {
     "data": {
      "text/plain": [
       "TfidfVectorizer(analyzer='word', binary=False, decode_error='strict',\n",
       "                dtype=<class 'numpy.float64'>, encoding='utf-8',\n",
       "                input='content', lowercase=True, max_df=1.0, max_features=None,\n",
       "                min_df=1, ngram_range=(1, 1), norm='l2', preprocessor=None,\n",
       "                smooth_idf=True,\n",
       "                stop_words={'a', 'about', 'above', 'across', 'after', 'again',\n",
       "                            'against', 'ain', 'all', 'almost', 'alone', 'along',\n",
       "                            'already', 'also', 'although', 'always', 'am',\n",
       "                            'among', 'an', 'and', 'another', 'any', 'anybody',\n",
       "                            'anyone', 'anything', 'anywhere', 'are', 'area',\n",
       "                            'areas', 'aren', ...},\n",
       "                strip_accents=None, sublinear_tf=False,\n",
       "                token_pattern='(?u)\\\\b\\\\w\\\\w+\\\\b', tokenizer=None, use_idf=True,\n",
       "                vocabulary=None)"
      ]
     },
     "execution_count": 19,
     "metadata": {
      "tags": []
     },
     "output_type": "execute_result"
    }
   ],
   "source": [
    "#fitting the training data into the vectorizer\n",
    "vectorizer.fit(X_train)"
   ]
  },
  {
   "cell_type": "code",
   "execution_count": 20,
   "metadata": {
    "colab": {
     "base_uri": "https://localhost:8080/"
    },
    "executionInfo": {
     "elapsed": 975,
     "status": "ok",
     "timestamp": 1617450841285,
     "user": {
      "displayName": "anant deora",
      "photoUrl": "https://lh3.googleusercontent.com/a-/AOh14GjY8NoW2uQzIdrTOhCnXdV3F655LNV8IgjJOYloGw=s64",
      "userId": "10102770296076671644"
     },
     "user_tz": -330
    },
    "id": "Hg5wIgook83T",
    "outputId": "c9ac5c31-35e1-4a0d-9a6a-bcf275ed8c16"
   },
   "outputs": [
    {
     "data": {
      "text/plain": [
       "{'good': 49093,\n",
       " 'product': 77077,\n",
       " 'trouble': 99988,\n",
       " 'armband': 14886,\n",
       " 'past': 72691,\n",
       " 'work': 107071,\n",
       " 'like': 60883,\n",
       " 'charm': 28279,\n",
       " 'doe': 38100,\n",
       " 'chaff': 27966,\n",
       " 'burn': 25435,\n",
       " 'arm': 14869,\n",
       " 'fit': 45283,\n",
       " 'snug': 91247,\n",
       " 'overall': 71577,\n",
       " 'desin': 36202,\n",
       " 'cute': 33400,\n",
       " 'well': 105709,\n",
       " 'fast': 44278,\n",
       " 'charge': 28148,\n",
       " 'buy': 25641,\n",
       " 'hold': 52379,\n",
       " 'great': 49700,\n",
       " 'bike': 22928,\n",
       " 'riding': 84658,\n",
       " 'walking': 104922,\n",
       " 'dish': 37480,\n",
       " 'etc': 42275,\n",
       " 'price': 76681,\n",
       " 'wa': 104752,\n",
       " 'perfect': 73383,\n",
       " 'phone': 74005,\n",
       " 'nicely': 68191,\n",
       " 'time': 98399,\n",
       " 'arrived': 15018,\n",
       " 'velcro': 103582,\n",
       " 'difficult': 36847,\n",
       " 'cause': 27552,\n",
       " 'strap': 93916,\n",
       " 'glad': 48630,\n",
       " 'bought': 24196,\n",
       " 'spigen': 92318,\n",
       " 'glas': 48672,\n",
       " 'iphone': 56641,\n",
       " 'wonderful': 106933,\n",
       " 'surprised': 95257,\n",
       " 'subpar': 94435,\n",
       " 'quality': 78778,\n",
       " 'version': 103778,\n",
       " 'htc': 52980,\n",
       " 'edge': 40339,\n",
       " 'beveled': 22732,\n",
       " 'sharp': 88739,\n",
       " 'feel': 44563,\n",
       " 'run': 85819,\n",
       " 'finger': 45065,\n",
       " 'screen': 87325,\n",
       " 'top': 98969,\n",
       " 'bottom': 24158,\n",
       " 'provides': 77799,\n",
       " 'nearly': 67616,\n",
       " '100': 422,\n",
       " 'coverage': 32338,\n",
       " 'leaf': 60081,\n",
       " 'bit': 23069,\n",
       " 'exposed': 43392,\n",
       " 'guess': 50230,\n",
       " 'unneccessariily': 102031,\n",
       " 'glass': 48677,\n",
       " 'le': 60063,\n",
       " 'prevents': 76642,\n",
       " 'getting': 48306,\n",
       " 'sliced': 90326,\n",
       " 'benefit': 22505,\n",
       " 'th': 97291,\n",
       " 'doubt': 38416,\n",
       " 'chalk': 28007,\n",
       " 'poor': 75472,\n",
       " 'design': 36176,\n",
       " 'flaw': 45564,\n",
       " 'hide': 52006,\n",
       " 'craftsmanship': 32521,\n",
       " 'save': 86816,\n",
       " 'money': 65867,\n",
       " 'bring': 24683,\n",
       " 'network': 67942,\n",
       " 'easy': 40118,\n",
       " 'online': 70350,\n",
       " 'removing': 83257,\n",
       " 'putting': 78436,\n",
       " 'tight': 98327,\n",
       " 'recommended': 82252,\n",
       " 'ha': 50527,\n",
       " 'worth': 107233,\n",
       " 'liked': 60889,\n",
       " 'doesnt': 38125,\n",
       " 'provide': 77792,\n",
       " 'lot': 61885,\n",
       " 'protection': 77595,\n",
       " 'drop': 38808,\n",
       " 'loved': 61946,\n",
       " 'magnet': 62745,\n",
       " 'placed': 74667,\n",
       " 'inside': 55689,\n",
       " 'compromising': 30792,\n",
       " 'conjunction': 31179,\n",
       " 'air': 12471,\n",
       " 'vent': 103645,\n",
       " 'accessory': 11046,\n",
       " 'sucked': 94555,\n",
       " 'cheap': 28345,\n",
       " 'glove': 48824,\n",
       " 'right': 84687,\n",
       " 'dropped': 38837,\n",
       " 'twice': 100474,\n",
       " 'survived': 95300,\n",
       " 'excellent': 42816,\n",
       " 'item': 57165,\n",
       " 'recommend': 82247,\n",
       " 'perfectly': 73413,\n",
       " 'fine': 45042,\n",
       " 'outside': 71490,\n",
       " 'lost': 61881,\n",
       " 'set': 88304,\n",
       " 'kit': 59034,\n",
       " 'allowed': 12918,\n",
       " 'clip': 29382,\n",
       " 'lens': 60336,\n",
       " 'body': 23766,\n",
       " 'skin': 90054,\n",
       " 'allow': 12914,\n",
       " 'important': 54538,\n",
       " 'wish': 106648,\n",
       " 'bag': 21317,\n",
       " 'held': 51702,\n",
       " 'tighter': 98337,\n",
       " 'simple': 89695,\n",
       " 'inability': 54679,\n",
       " 'close': 29457,\n",
       " 'clasp': 29150,\n",
       " 'caused': 27553,\n",
       " 'pop': 75484,\n",
       " 'bummer': 25331,\n",
       " 'look': 61663,\n",
       " 'button': 25587,\n",
       " 'broken': 24766,\n",
       " 'got': 49308,\n",
       " 'girl': 48535,\n",
       " 'friend': 46828,\n",
       " 'love': 61938,\n",
       " 'extra': 43539,\n",
       " 'battery': 21801,\n",
       " 'mail': 62838,\n",
       " 'ok': 70030,\n",
       " 'remove': 83247,\n",
       " 'course': 32296,\n",
       " 'brake': 24404,\n",
       " 'camera': 26654,\n",
       " 'milky': 64819,\n",
       " 'son': 91628,\n",
       " 'auto': 15845,\n",
       " 'repair': 83376,\n",
       " 'dent': 35900,\n",
       " 'corner': 31980,\n",
       " 'slid': 90348,\n",
       " 'pocket': 75181,\n",
       " 'tryed': 100120,\n",
       " 'cell': 27731,\n",
       " 'holder': 52390,\n",
       " 'problem': 76905,\n",
       " 'hd': 51374,\n",
       " 'unit': 101882,\n",
       " 'wo': 106854,\n",
       " 'tonight': 98896,\n",
       " 'car': 26970,\n",
       " 'surprise': 95256,\n",
       " 'holding': 52400,\n",
       " 'home': 52483,\n",
       " 'truck': 100027,\n",
       " 'job': 57985,\n",
       " 'guy': 50372,\n",
       " 'star': 93189,\n",
       " 'enough': 41497,\n",
       " 'offer': 69792,\n",
       " 'expect': 43171,\n",
       " 'none': 68621,\n",
       " 'protector': 77621,\n",
       " 'better': 22689,\n",
       " 'bullet': 25274,\n",
       " 'proof': 77379,\n",
       " 'galaxy': 47683,\n",
       " 'j7': 57488,\n",
       " 'tough': 99177,\n",
       " 'onto': 70414,\n",
       " 'rubber': 85655,\n",
       " 'interfered': 56101,\n",
       " 'actual': 11443,\n",
       " 'bulky': 25258,\n",
       " 'using': 102958,\n",
       " 'shipping': 89013,\n",
       " 'reasonable': 81781,\n",
       " 'solid': 91491,\n",
       " 'abut': 10900,\n",
       " 'month': 65966,\n",
       " 'slow': 90600,\n",
       " 'snail': 91029,\n",
       " 'charging': 28231,\n",
       " 'zen': 108808,\n",
       " 'nice': 68172,\n",
       " 'clean': 29202,\n",
       " 'device': 36470,\n",
       " 'pro': 76852,\n",
       " 'beautiful': 22089,\n",
       " 'black': 23171,\n",
       " 'band': 21476,\n",
       " 'metal': 64317,\n",
       " 'sporty': 92527,\n",
       " 'tempered': 96921,\n",
       " 'con': 30853,\n",
       " 'pin': 74426,\n",
       " 'insert': 55674,\n",
       " 'opposite': 70676,\n",
       " 'vs': 104561,\n",
       " 'leftsee': 60226,\n",
       " 'photo': 74143,\n",
       " 'wear': 105481,\n",
       " 'dinner': 37079,\n",
       " 'dress': 38682,\n",
       " 'stylish': 94331,\n",
       " 'stainless': 93079,\n",
       " 'steel': 93410,\n",
       " 'decided': 35109,\n",
       " 'try': 100113,\n",
       " 'day': 34799,\n",
       " 'absolutely': 10825,\n",
       " 'cant': 26827,\n",
       " 'stop': 93771,\n",
       " 'looking': 61685,\n",
       " 'sleek': 90276,\n",
       " 'draw': 38612,\n",
       " 'little': 61207,\n",
       " 'attention': 15618,\n",
       " 'wrist': 107442,\n",
       " 'lol': 61556,\n",
       " 'blaze': 23284,\n",
       " 'hoping': 52652,\n",
       " 'taking': 96197,\n",
       " 'link': 61028,\n",
       " 'original': 70926,\n",
       " 'usually': 103006,\n",
       " '4th': 5581,\n",
       " 'hole': 52417,\n",
       " 'closest': 29472,\n",
       " 'picture': 74313,\n",
       " 'except': 42854,\n",
       " 'pretty': 76615,\n",
       " 'frame': 46594,\n",
       " 'notice': 68887,\n",
       " 'aftermarket': 12181,\n",
       " 'match': 63469,\n",
       " 'comparison': 30478,\n",
       " 'please': 74921,\n",
       " 'idea': 53790,\n",
       " 'im': 54214,\n",
       " 'referring': 82633,\n",
       " 'deal': 34947,\n",
       " 'accustomed': 11190,\n",
       " 'bad': 21267,\n",
       " 'especially': 42127,\n",
       " 'added': 11575,\n",
       " 'definitely': 35496,\n",
       " 'consider': 31330,\n",
       " 'particular': 72593,\n",
       " 'search': 87629,\n",
       " 'material': 63496,\n",
       " 'regard': 82761,\n",
       " 'comment': 30295,\n",
       " 'inserting': 55679,\n",
       " 'feeling': 44572,\n",
       " 'iffy': 53944,\n",
       " 'plan': 74714,\n",
       " 'changing': 28073,\n",
       " 'wouldnt': 107289,\n",
       " 'worry': 107207,\n",
       " 'issue': 57048,\n",
       " 'honestly': 52547,\n",
       " 'elated': 40704,\n",
       " 'purchase': 78236,\n",
       " 'thoroughly': 98000,\n",
       " 'thats': 97394,\n",
       " 'happy': 50985,\n",
       " 'honest': 52543,\n",
       " 'review': 84320,\n",
       " 'helpful': 51747,\n",
       " 'anyway': 14167,\n",
       " 'click': 29312,\n",
       " 'purchased': 78237,\n",
       " 'free': 46671,\n",
       " 'discount': 37369,\n",
       " 'exchange': 42896,\n",
       " 'forthcoming': 46398,\n",
       " 'note': 68829,\n",
       " 'coerced': 29877,\n",
       " 'leaving': 60166,\n",
       " 'positive': 75696,\n",
       " 'leave': 60158,\n",
       " 'negative': 67757,\n",
       " 'based': 21666,\n",
       " 'experience': 43280,\n",
       " 'hope': 52636,\n",
       " 'help': 51740,\n",
       " 'strongest': 94115,\n",
       " 'smartest': 90751,\n",
       " 'thank': 97335,\n",
       " 'silverado': 89608,\n",
       " 'vertical': 103805,\n",
       " 'rotates': 85360,\n",
       " 'droid': 38771,\n",
       " 'turbo': 100319,\n",
       " 'tps': 99297,\n",
       " 'easily': 40080,\n",
       " 'attache': 15553,\n",
       " 'detaches': 36324,\n",
       " 'securely': 87724,\n",
       " 'drive': 38736,\n",
       " 'satisfied': 86760,\n",
       " 'caution': 27562,\n",
       " 'installing': 55786,\n",
       " 'removinng': 83258,\n",
       " 'fall': 44039,\n",
       " 'lose': 61856,\n",
       " 'date': 34741,\n",
       " 'shut': 89338,\n",
       " 'husband': 53235,\n",
       " 'expected': 43192,\n",
       " 'compare': 30466,\n",
       " 'costly': 32137,\n",
       " 'otterbox': 71196,\n",
       " 'actually': 11455,\n",
       " 'stated': 93286,\n",
       " 'wait': 104871,\n",
       " 'awesome': 16145,\n",
       " 'plug': 75046,\n",
       " 'easier': 40065,\n",
       " 'cable': 26379,\n",
       " 'dell': 35757,\n",
       " 'occasionally': 69590,\n",
       " 'error': 42014,\n",
       " 'android': 13689,\n",
       " 'indicates': 55054,\n",
       " 'occurred': 69628,\n",
       " 'happened': 50961,\n",
       " '12v': 1110,\n",
       " 'adapter': 11533,\n",
       " 'plugged': 75053,\n",
       " 'pc': 72896,\n",
       " 'usb': 102828,\n",
       " 'port': 75574,\n",
       " 'ca': 26346,\n",
       " 'alternative': 13108,\n",
       " 'oem': 69743,\n",
       " 'anymore': 14130,\n",
       " 'best': 22619,\n",
       " 'option': 70733,\n",
       " 'smooth': 90923,\n",
       " 'exactly': 42699,\n",
       " 'supposed': 95092,\n",
       " 'bright': 24637,\n",
       " 'pulsing': 78138,\n",
       " 'color': 30049,\n",
       " 'night': 68262,\n",
       " 'bedside': 22211,\n",
       " 'table': 96052,\n",
       " 'unless': 101933,\n",
       " 'enjoy': 41459,\n",
       " 'boring': 24079,\n",
       " 'laser': 59838,\n",
       " 'light': 60785,\n",
       " 'trying': 100127,\n",
       " 'sleep': 90287,\n",
       " 'disable': 37177,\n",
       " 'led': 60182,\n",
       " 'instruction': 55867,\n",
       " 'granted': 49571,\n",
       " 'normal': 68754,\n",
       " 'operation': 70592,\n",
       " 'brainer': 24383,\n",
       " 'sometimes': 91597,\n",
       " 'flash': 45484,\n",
       " 'red': 82428,\n",
       " 'clue': 29550,\n",
       " 'mean': 63839,\n",
       " 'install': 55767,\n",
       " 'replace': 83442,\n",
       " 'cracked': 32481,\n",
       " 'spot': 92532,\n",
       " 'installed': 55779,\n",
       " 'tool': 98923,\n",
       " 'apple': 14444,\n",
       " 'sim': 89621,\n",
       " 'card': 27019,\n",
       " 'removal': 83242,\n",
       " 'key': 58733,\n",
       " 'chain': 27986,\n",
       " 'kide': 58886,\n",
       " 'sturdy': 94279,\n",
       " 'read': 81563,\n",
       " 'power': 75868,\n",
       " 'level': 60430,\n",
       " 'remaining': 83145,\n",
       " 'limefuel': 60958,\n",
       " 'pack': 72119,\n",
       " '2000mah': 2379,\n",
       " 'unfortunately': 101680,\n",
       " 'blue': 23525,\n",
       " 'dirty': 37167,\n",
       " 'quickly': 78948,\n",
       " 'muy': 66958,\n",
       " 'buen': 25103,\n",
       " 'producto': 77095,\n",
       " 'excelente': 42786,\n",
       " 'amazon': 13268,\n",
       " 'lighting': 60807,\n",
       " 'promotion': 77328,\n",
       " 'sound': 91814,\n",
       " 'outgoing': 71388,\n",
       " 'voice': 104350,\n",
       " 'clear': 29229,\n",
       " 'tesed': 97139,\n",
       " 'paring': 72523,\n",
       " 'tried': 99843,\n",
       " 'motorol': 66265,\n",
       " 'tooth': 98957,\n",
       " 'connect': 31206,\n",
       " 'automatically': 15893,\n",
       " 'manually': 63151,\n",
       " 'plantronics': 74754,\n",
       " 'voyager': 104501,\n",
       " '520': 5898,\n",
       " 'connects': 31239,\n",
       " 'paired': 72249,\n",
       " 'pair': 72247,\n",
       " 'mode': 65652,\n",
       " 'manual': 63150,\n",
       " 'able': 10692,\n",
       " 'complaint': 30612,\n",
       " 'plastic': 74783,\n",
       " 'hook': 52603,\n",
       " 'interferes': 56104,\n",
       " 'eye': 43646,\n",
       " 'thinner': 97869,\n",
       " 'sunglass': 94765,\n",
       " 'due': 39051,\n",
       " 'fantastic': 44165,\n",
       " 'pure': 78274,\n",
       " 'horrible': 52697,\n",
       " 'carrier': 27199,\n",
       " 'manufacturer': 63177,\n",
       " 'garbage': 47826,\n",
       " 'apps': 14607,\n",
       " 'incredible': 54952,\n",
       " 'performance': 73487,\n",
       " 'responsive': 83950,\n",
       " 'awful': 16173,\n",
       " 'stellar': 93445,\n",
       " 'life': 60680,\n",
       " 'lowdowns': 62038,\n",
       " 'silky': 89591,\n",
       " 'hexacore': 51918,\n",
       " 'processor': 76977,\n",
       " 'micro': 64533,\n",
       " 'sd': 87530,\n",
       " 'support': 95076,\n",
       " 'colorful': 30066,\n",
       " 'vibrant': 103943,\n",
       " '1440p': 1403,\n",
       " '70': 7183,\n",
       " 'ratio': 81331,\n",
       " 'rich': 84603,\n",
       " 'stereo': 93486,\n",
       " 'speaker': 92060,\n",
       " 'loud': 61908,\n",
       " 'spiffy': 92312,\n",
       " 'standard': 93132,\n",
       " 'lightning': 60817,\n",
       " '40ish': 4986,\n",
       " 'minute': 65081,\n",
       " '21mp': 2701,\n",
       " 'jive': 57940,\n",
       " 'google': 49167,\n",
       " 'app': 14363,\n",
       " '5mp': 6307,\n",
       " 'selfie': 87886,\n",
       " 'decent': 35088,\n",
       " 'selfies': 87893,\n",
       " 'included': 54833,\n",
       " 'bland': 23243,\n",
       " 'care': 27062,\n",
       " 'model': 65655,\n",
       " 'notification': 68914,\n",
       " 'blink': 23368,\n",
       " 'kinda': 58947,\n",
       " 'bothersome': 24133,\n",
       " 'press': 76533,\n",
       " 'screenshot': 87374,\n",
       " 'asus': 15407,\n",
       " 'zenfone2': 108821,\n",
       " 'map': 63212,\n",
       " 'feature': 44499,\n",
       " 'desired': 36215,\n",
       " 'sigh': 89477,\n",
       " 'freedom': 46684,\n",
       " 'gsm': 50129,\n",
       " 'cdma': 27675,\n",
       " '16gb': 1755,\n",
       " '32gb': 4332,\n",
       " 'buck': 25050,\n",
       " '15': 1520,\n",
       " 'lower': 62042,\n",
       " '64gb': 6868,\n",
       " 'saving': 86833,\n",
       " 'admit': 11787,\n",
       " 'guilty': 50265,\n",
       " 'throwing': 98145,\n",
       " 'junk': 58276,\n",
       " 'drawer': 38617,\n",
       " 'letting': 60413,\n",
       " 'piled': 74395,\n",
       " 'messy': 64309,\n",
       " 'disorganized': 37572,\n",
       " 'house': 52825,\n",
       " 'whatever': 105892,\n",
       " 'hard': 51009,\n",
       " 'office': 69817,\n",
       " 'kitchen': 59038,\n",
       " 'bathroom': 21764,\n",
       " 'organizer': 70876,\n",
       " 'tray': 99682,\n",
       " 'ikea': 54113,\n",
       " 'instead': 55817,\n",
       " 'divide': 37904,\n",
       " 'space': 91931,\n",
       " 'organized': 70875,\n",
       " 'utilize': 103061,\n",
       " 'theyre': 97710,\n",
       " 'box': 24269,\n",
       " 'screw': 87405,\n",
       " 'spring': 92593,\n",
       " 'loaded': 61388,\n",
       " 'divider': 37907,\n",
       " '17': 1794,\n",
       " 'expand': 43135,\n",
       " '12': 909,\n",
       " '20': 2366,\n",
       " 'length': 60312,\n",
       " 'versatile': 103769,\n",
       " 'kept': 58701,\n",
       " 'pen': 73182,\n",
       " 'scissors': 87128,\n",
       " 'move': 66361,\n",
       " 'invention': 56378,\n",
       " 'discounted': 37371,\n",
       " 'unbiased': 101137,\n",
       " 'anker': 13822,\n",
       " 'live': 61230,\n",
       " 'expectation': 43180,\n",
       " 'saver': 86822,\n",
       " 'samsung': 86534,\n",
       " '18': 1892,\n",
       " 'lg': 60477,\n",
       " 'tablet': 96059,\n",
       " 'recharge': 82054,\n",
       " 'designed': 36185,\n",
       " 'visual': 104222,\n",
       " 'beyond': 22763,\n",
       " 'flimsiness': 45711,\n",
       " 'fixing': 45380,\n",
       " 'multiple': 66768,\n",
       " 'size': 89941,\n",
       " 'specifically': 92111,\n",
       " 'awkward': 16187,\n",
       " 'closing': 29478,\n",
       " 'latch': 59876,\n",
       " 'closed': 29460,\n",
       " 'random': 81201,\n",
       " 'understand': 101440,\n",
       " 'logic': 61498,\n",
       " 'waterproof': 105295,\n",
       " 'silicone': 89572,\n",
       " 'closure': 29488,\n",
       " 'loose': 61803,\n",
       " 'ill': 54146,\n",
       " 'fitting': 45347,\n",
       " 'stay': 93335,\n",
       " 'ride': 84630,\n",
       " 'rain': 81108,\n",
       " 'wet': 105800,\n",
       " 'tip': 98524,\n",
       " 'concept': 30891,\n",
       " 'drawing': 38618,\n",
       " 'board': 23703,\n",
       " 'improvement': 54631,\n",
       " 'useful': 102888,\n",
       " 'ty': 100563,\n",
       " 'emergency': 41069,\n",
       " 'prepared': 76445,\n",
       " 'week': 105602,\n",
       " 'stopped': 93782,\n",
       " 'apparently': 14377,\n",
       " 'stuck': 94182,\n",
       " 'reboot': 81859,\n",
       " 'avoid': 16067,\n",
       " 'volume': 104424,\n",
       " 'screenshots': 87378,\n",
       " 'virtually': 104174,\n",
       " 'impossible': 54569,\n",
       " 'risio': 84849,\n",
       " 'afraid': 12157,\n",
       " 'description': 36113,\n",
       " 'include': 54832,\n",
       " 'researching': 83709,\n",
       " 'twin': 100490,\n",
       " 'realized': 81655,\n",
       " 'name': 67369,\n",
       " 'provider': 77797,\n",
       " 'leon': 60358,\n",
       " 'tribute': 99812,\n",
       " 'disappointed': 37226,\n",
       " 'stone': 93744,\n",
       " 'received': 81966,\n",
       " 'complement': 30640,\n",
       " 'placing': 74683,\n",
       " 'cd': 27668,\n",
       " 'slot': 90584,\n",
       " 'touch': 99126,\n",
       " 'deformed': 35549,\n",
       " 'dust': 39253,\n",
       " 'cover': 32334,\n",
       " 'mount': 66306,\n",
       " 'package': 72125,\n",
       " 'release': 83040,\n",
       " 'mechanism': 63906,\n",
       " 'push': 78392,\n",
       " 'slowly': 90612,\n",
       " 'whati': 105899,\n",
       " 'quick': 78916,\n",
       " 'delivery': 35749,\n",
       " 'service': 88269,\n",
       " 'bill': 22953,\n",
       " 'reviewing': 84334,\n",
       " 'wife': 106302,\n",
       " 'carrying': 27219,\n",
       " 'purse': 78361,\n",
       " 'theme': 97522,\n",
       " 'park': 72529,\n",
       " 'pleasantly': 74916,\n",
       " 'finding': 45037,\n",
       " 'beginning': 22314,\n",
       " 'break': 24495,\n",
       " 'future': 47403,\n",
       " 'maybe': 63657,\n",
       " 'happens': 50966,\n",
       " 'roll': 85208,\n",
       " 'royce': 85460,\n",
       " 'mine': 64921,\n",
       " 'replaced': 83447,\n",
       " '24': 2892,\n",
       " 'hour': 52816,\n",
       " 'enabled': 41201,\n",
       " 'stars': 93237,\n",
       " 'short': 89144,\n",
       " 'talk': 96218,\n",
       " 'longevity': 61603,\n",
       " 'amend': 13336,\n",
       " 'near': 67608,\n",
       " 'change': 28059,\n",
       " 'rating': 81328,\n",
       " 'reduced': 82532,\n",
       " 'evaluation': 42384,\n",
       " 'base': 21659,\n",
       " 'depend': 35931,\n",
       " 'yes': 108268,\n",
       " 'shopping': 89129,\n",
       " 'thanks': 97347,\n",
       " 'reading': 81579,\n",
       " 'disclosing': 37308,\n",
       " 'accordance': 11121,\n",
       " 'federal': 44538,\n",
       " 'trade': 99364,\n",
       " 'commission': 30315,\n",
       " '16': 1669,\n",
       " 'cfr': 27939,\n",
       " '255': 3027,\n",
       " 'guide': 50251,\n",
       " 'concerning': 30904,\n",
       " 'endorsement': 41325,\n",
       " 'testimonial': 97159,\n",
       " 'advertising': 11946,\n",
       " 'worked': 107091,\n",
       " 'active': 11417,\n",
       " 'handy': 50879,\n",
       " 'surfing': 95206,\n",
       " 'net': 67903,\n",
       " 'watching': 105245,\n",
       " 'video': 103988,\n",
       " 'saved': 86818,\n",
       " 'shockingly': 89066,\n",
       " 'outlasted': 71411,\n",
       " 'bother': 24129,\n",
       " 'stand': 93125,\n",
       " 'slim': 90400,\n",
       " 'watch': 105218,\n",
       " 'fault': 44359,\n",
       " 'bed': 22189,\n",
       " 'stead': 93362,\n",
       " 'shelf': 88857,\n",
       " 'hobby': 52323,\n",
       " 'third': 97889,\n",
       " 'breakfast': 24508,\n",
       " 'branding': 24427,\n",
       " 'display': 37618,\n",
       " 'nokia': 68554,\n",
       " 'brand': 24421,\n",
       " 'cut': 33396,\n",
       " 'aligned': 12780,\n",
       " 'add': 11564,\n",
       " 'memory': 64150,\n",
       " 'highly': 52062,\n",
       " 'suggest': 94651,\n",
       " 'lumia': 62278,\n",
       " '635': 6811,\n",
       " 'effective': 40491,\n",
       " 'colour': 30090,\n",
       " 'style': 94306,\n",
       " 'charger': 28185,\n",
       " 'larger': 59818,\n",
       " 'type': 100586,\n",
       " 'regular': 82848,\n",
       " 'white': 106088,\n",
       " 'ipad': 56587,\n",
       " 'kindle': 58956,\n",
       " 'fire': 45163,\n",
       " 'broke': 24762,\n",
       " 'bam': 21460,\n",
       " 'drained': 38583,\n",
       " 'couple': 32275,\n",
       " 'boooo': 23992,\n",
       " 'excited': 42911,\n",
       " 'hubby': 53050,\n",
       " 'gift': 48417,\n",
       " 'firm': 45214,\n",
       " 'grip': 49892,\n",
       " 'deploy': 35974,\n",
       " 'combined': 30143,\n",
       " 'vacuum': 103275,\n",
       " 'cup': 33211,\n",
       " 'oneplus': 70299,\n",
       " 'pushing': 78402,\n",
       " 'physical': 74231,\n",
       " 'faster': 44294,\n",
       " 'business': 25480,\n",
       " 'advertised': 11938,\n",
       " 'tech': 96597,\n",
       " 'armor': 14909,\n",
       " 'hopefully': 52642,\n",
       " 'entire': 41603,\n",
       " 'swipe': 95581,\n",
       " 'engage': 41395,\n",
       " 'previous': 76653,\n",
       " 'hit': 52215,\n",
       " 'starting': 93259,\n",
       " 'pull': 78115,\n",
       " 'appears': 14404,\n",
       " 'dirt': 37155,\n",
       " 'accumulating': 11166,\n",
       " 'worse': 107213,\n",
       " 'protected': 77568,\n",
       " 'concerned': 30903,\n",
       " 'assume': 15327,\n",
       " 'reason': 81779,\n",
       " 'decision': 35133,\n",
       " 'possibly': 75729,\n",
       " 'alternate': 13103,\n",
       " 'solution': 91531,\n",
       " 'completely': 30651,\n",
       " 'covered': 32347,\n",
       " 'cord': 31926,\n",
       " 'shortest': 89161,\n",
       " 'market': 63313,\n",
       " 'ipod': 56720,\n",
       " 'classic': 29162,\n",
       " 'attach': 15550,\n",
       " 'fragile': 46568,\n",
       " 'hand': 50765,\n",
       " 'bubble': 25018,\n",
       " 'built': 25187,\n",
       " 'totally': 99098,\n",
       " 'terrible': 97106,\n",
       " 'stretch': 94038,\n",
       " 'shape': 88699,\n",
       " 'eventually': 42447,\n",
       " 'ear': 39943,\n",
       " 'bud': 25071,\n",
       " 'firmly': 45220,\n",
       " 'searching': 87634,\n",
       " 'earhooks': 39970,\n",
       " 'choice': 28682,\n",
       " 'compalints': 30435,\n",
       " 'easyish': 40133,\n",
       " 'apply': 14508,\n",
       " 'careful': 27072,\n",
       " 'applying': 14512,\n",
       " '24w': 2984,\n",
       " 'described': 36092,\n",
       " 'output': 71458,\n",
       " 'hooked': 52605,\n",
       " 'edit': 40373,\n",
       " 'changed': 28064,\n",
       " 'attached': 15554,\n",
       " 'hoped': 52638,\n",
       " 'damaged': 34527,\n",
       " 'cosmetically': 32117,\n",
       " 'durable': 39174,\n",
       " 'flimsy': 45714,\n",
       " 'nicest': 68202,\n",
       " 'protective': 77607,\n",
       " 'seen': 87786,\n",
       " 'snap': 91042,\n",
       " 'underneath': 101404,\n",
       " 'protect': 77549,\n",
       " 'aux': 15944,\n",
       " 'amazing': 13252,\n",
       " 'memorable': 64139,\n",
       " 'strongly': 94117,\n",
       " 'people': 73264,\n",
       " 'biased': 22826,\n",
       " 'paid': 72221,\n",
       " 'found': 46482,\n",
       " '3500mah': 4463,\n",
       " '1800mah': 1900,\n",
       " 'afer': 12070,\n",
       " 'train': 99413,\n",
       " 'chance': 28043,\n",
       " 'update': 102597,\n",
       " 'loveee': 61956,\n",
       " 'response': 83942,\n",
       " 'removed': 83250,\n",
       " 'holster': 52466,\n",
       " 'nt100h': 69087,\n",
       " 'high': 52037,\n",
       " 'capacity': 26883,\n",
       " 'portable': 75587,\n",
       " 'packaging': 72135,\n",
       " 'build': 25174,\n",
       " 'content': 31519,\n",
       " 'nt100a': 69086,\n",
       " 'arrival': 15014,\n",
       " 'impressed': 54604,\n",
       " 'lends': 60300,\n",
       " 'usefulness': 102895,\n",
       " 'greatly': 49731,\n",
       " 'balance': 21372,\n",
       " 'weight': 105646,\n",
       " 'portability': 75586,\n",
       " 'immediately': 54352,\n",
       " 'comfortable': 30209,\n",
       " 'travel': 99640,\n",
       " 'trip': 99890,\n",
       " 'compact': 30406,\n",
       " 'tiny': 98514,\n",
       " 'adding': 11591,\n",
       " 'functional': 47245,\n",
       " 'brushed': 24865,\n",
       " 'aluminum': 13155,\n",
       " 'casing': 27420,\n",
       " 'cool': 31800,\n",
       " 'testing': 97162,\n",
       " 'favorite': 44399,\n",
       " 'system': 95844,\n",
       " 'identify': 53825,\n",
       " 'left': 60217,\n",
       " 'directly': 37138,\n",
       " 'wall': 104933,\n",
       " 'unplug': 102126,\n",
       " 'charged': 28162,\n",
       " 's3': 86100,\n",
       " '2g': 3858,\n",
       " 'digital': 36921,\n",
       " 'nexus': 68107,\n",
       " '2012': 2435,\n",
       " 'period': 73532,\n",
       " 'half': 50689,\n",
       " 'start': 93247,\n",
       " 'green': 49779,\n",
       " '75': 7721,\n",
       " 'degrade': 35581,\n",
       " 'flashing': 45500,\n",
       " 'shuts': 89344,\n",
       " 'brightness': 24654,\n",
       " 'user': 102917,\n",
       " 'check': 28391,\n",
       " 'status': 93327,\n",
       " 'allowing': 12920,\n",
       " 'properly': 77417,\n",
       " 'rate': 81312,\n",
       " 'comparable': 30453,\n",
       " 'stock': 93714,\n",
       " 'slower': 90604,\n",
       " 'mobile': 65578,\n",
       " 'cloth': 29493,\n",
       " 'wrapping': 107388,\n",
       " 'fell': 44625,\n",
       " 'apart': 14249,\n",
       " 'seldom': 87862,\n",
       " 'charges': 28205,\n",
       " 'sad': 86289,\n",
       " 'kink': 58997,\n",
       " 'protecting': 77591,\n",
       " 'fone': 46103,\n",
       " 'sexy': 88391,\n",
       " 'real': 81609,\n",
       " 'website': 105560,\n",
       " 'aware': 16114,\n",
       " 'front': 46951,\n",
       " 'purple': 78320,\n",
       " 'replacement': 83454,\n",
       " 'layer': 59994,\n",
       " 'caserubber': 27376,\n",
       " 'slippery': 90490,\n",
       " 'absorb': 10837,\n",
       " 'shock': 89060,\n",
       " 'soft': 91365,\n",
       " 'alright': 13063,\n",
       " 'considering': 31342,\n",
       " 'lack': 59609,\n",
       " 'loosen': 61810,\n",
       " 'topping': 99003,\n",
       " 'started': 93252,\n",
       " 'peel': 73111,\n",
       " 'window': 106469,\n",
       " 'dash': 34689,\n",
       " 'scratch': 87255,\n",
       " 'crack': 32473,\n",
       " 'soon': 91684,\n",
       " 'ballistic': 21421,\n",
       " 'true': 100042,\n",
       " 'niece': 68238,\n",
       " 'enjoys': 41466,\n",
       " 'resistant': 83814,\n",
       " 'protects': 77652,\n",
       " 'iwatch': 57406,\n",
       " 'shipped': 89006,\n",
       " 'waiting': 104879,\n",
       " 'suppose': 95091,\n",
       " 'matte': 63545,\n",
       " 'finish': 45119,\n",
       " 'pick': 74265,\n",
       " 'transfer': 99491,\n",
       " 'baby': 21124,\n",
       " 'wipe': 106567,\n",
       " 'rest': 83971,\n",
       " 'jean': 57730,\n",
       " 'suede': 94599,\n",
       " 'pink': 74454,\n",
       " 'rubbing': 85694,\n",
       " 'wallet': 104942,\n",
       " '3rd': 4858,\n",
       " 'credit': 32702,\n",
       " 'driver': 38743,\n",
       " 'license': 60635,\n",
       " 'rub': 85648,\n",
       " 'mark': 63299,\n",
       " 'surface': 95186,\n",
       " 'plain': 74703,\n",
       " 'replacing': 83476,\n",
       " 'person': 73678,\n",
       " 'ample': 13476,\n",
       " 'access': 11011,\n",
       " 'sunlight': 94780,\n",
       " 'recharges': 82061,\n",
       " 'cellphone': 27770,\n",
       " 'seller': 87930,\n",
       " 'plenty': 74961,\n",
       " 'throughout': 98128,\n",
       " 'verizon': 103733,\n",
       " 'causing': 27558,\n",
       " 'toy': 99268,\n",
       " 'meet': 64018,\n",
       " 'requirement': 83642,\n",
       " 'including': 54840,\n",
       " 'defender': 35350,\n",
       " 'popsockets': 75517,\n",
       " 'resisted': 83818,\n",
       " 'dropping': 38846,\n",
       " 'downside': 38496,\n",
       " 'popsocket': 75516,\n",
       " 'unfortunate': 101678,\n",
       " 'world': 107168,\n",
       " 'construction': 31435,\n",
       " 'study': 94215,\n",
       " ...}"
      ]
     },
     "execution_count": 20,
     "metadata": {
      "tags": []
     },
     "output_type": "execute_result"
    }
   ],
   "source": [
    "vectorizer.vocabulary_"
   ]
  },
  {
   "cell_type": "code",
   "execution_count": 21,
   "metadata": {
    "executionInfo": {
     "elapsed": 40939,
     "status": "ok",
     "timestamp": 1617450906583,
     "user": {
      "displayName": "anant deora",
      "photoUrl": "https://lh3.googleusercontent.com/a-/AOh14GjY8NoW2uQzIdrTOhCnXdV3F655LNV8IgjJOYloGw=s64",
      "userId": "10102770296076671644"
     },
     "user_tz": -330
    },
    "id": "zJDSGWJWlTDN"
   },
   "outputs": [],
   "source": [
    "# transforming the train and test datasets\n",
    "X_train_transformed = vectorizer.transform(X_train)\n",
    "X_test_transformed = vectorizer.transform(X_test)"
   ]
  },
  {
   "cell_type": "code",
   "execution_count": 22,
   "metadata": {
    "executionInfo": {
     "elapsed": 1478,
     "status": "ok",
     "timestamp": 1617450945259,
     "user": {
      "displayName": "anant deora",
      "photoUrl": "https://lh3.googleusercontent.com/a-/AOh14GjY8NoW2uQzIdrTOhCnXdV3F655LNV8IgjJOYloGw=s64",
      "userId": "10102770296076671644"
     },
     "user_tz": -330
    },
    "id": "Ycdcs3fElZPE"
   },
   "outputs": [],
   "source": [
    "# training the Naive Bayes model and making predictions\n",
    "from sklearn.naive_bayes import MultinomialNB\n",
    "mnb = MultinomialNB()\n",
    "\n",
    "# fit\n",
    "mnb.fit(X_train_transformed,y_train)\n",
    "\n",
    "# predict class\n",
    "y_pred_class = mnb.predict(X_test_transformed)\n",
    "\n",
    "# predict probabilities\n",
    "y_pred_proba = mnb.predict_proba(X_test_transformed)"
   ]
  },
  {
   "cell_type": "markdown",
   "metadata": {
    "id": "vkXyznxHlu6A"
   },
   "source": [
    "## Model Evaluation"
   ]
  },
  {
   "cell_type": "code",
   "execution_count": 23,
   "metadata": {
    "colab": {
     "base_uri": "https://localhost:8080/"
    },
    "executionInfo": {
     "elapsed": 3065,
     "status": "ok",
     "timestamp": 1617450993428,
     "user": {
      "displayName": "anant deora",
      "photoUrl": "https://lh3.googleusercontent.com/a-/AOh14GjY8NoW2uQzIdrTOhCnXdV3F655LNV8IgjJOYloGw=s64",
      "userId": "10102770296076671644"
     },
     "user_tz": -330
    },
    "id": "sxGRMY8RlsT4",
    "outputId": "559da4bb-4d98-4e0c-e01c-50e2ee4e4d22"
   },
   "outputs": [
    {
     "data": {
      "text/plain": [
       "0.8080576621570812"
      ]
     },
     "execution_count": 23,
     "metadata": {
      "tags": []
     },
     "output_type": "execute_result"
    }
   ],
   "source": [
    "# printing the overall accuracy\n",
    "from sklearn import metrics\n",
    "metrics.accuracy_score(y_test, y_pred_class)"
   ]
  },
  {
   "cell_type": "code",
   "execution_count": 24,
   "metadata": {
    "colab": {
     "base_uri": "https://localhost:8080/"
    },
    "executionInfo": {
     "elapsed": 1960,
     "status": "ok",
     "timestamp": 1617451029477,
     "user": {
      "displayName": "anant deora",
      "photoUrl": "https://lh3.googleusercontent.com/a-/AOh14GjY8NoW2uQzIdrTOhCnXdV3F655LNV8IgjJOYloGw=s64",
      "userId": "10102770296076671644"
     },
     "user_tz": -330
    },
    "id": "jOO0SxZwl3rt",
    "outputId": "684c8980-40de-42e2-bff4-1dc9fe78954f"
   },
   "outputs": [
    {
     "data": {
      "text/plain": [
       "array([[  7303,  53561],\n",
       "       [   551, 220503]])"
      ]
     },
     "execution_count": 24,
     "metadata": {
      "tags": []
     },
     "output_type": "execute_result"
    }
   ],
   "source": [
    "# confusion matrix\n",
    "metrics.confusion_matrix(y_test, y_pred_class)"
   ]
  },
  {
   "cell_type": "code",
   "execution_count": 25,
   "metadata": {
    "colab": {
     "base_uri": "https://localhost:8080/"
    },
    "executionInfo": {
     "elapsed": 899,
     "status": "ok",
     "timestamp": 1617451049399,
     "user": {
      "displayName": "anant deora",
      "photoUrl": "https://lh3.googleusercontent.com/a-/AOh14GjY8NoW2uQzIdrTOhCnXdV3F655LNV8IgjJOYloGw=s64",
      "userId": "10102770296076671644"
     },
     "user_tz": -330
    },
    "id": "UAIwHToxmAwU",
    "outputId": "f602ece2-3d63-4a8a-c615-8d1a9dccd94e"
   },
   "outputs": [
    {
     "name": "stdout",
     "output_type": "stream",
     "text": [
      "[[  7303  53561]\n",
      " [   551 220503]]\n"
     ]
    }
   ],
   "source": [
    "confusion = metrics.confusion_matrix(y_test, y_pred_class)\n",
    "print(confusion)\n",
    "TN = confusion[0, 0]\n",
    "FP = confusion[0, 1]\n",
    "FN = confusion[1, 0]\n",
    "TP = confusion[1, 1]"
   ]
  },
  {
   "cell_type": "code",
   "execution_count": 26,
   "metadata": {
    "colab": {
     "base_uri": "https://localhost:8080/"
    },
    "executionInfo": {
     "elapsed": 927,
     "status": "ok",
     "timestamp": 1617451066341,
     "user": {
      "displayName": "anant deora",
      "photoUrl": "https://lh3.googleusercontent.com/a-/AOh14GjY8NoW2uQzIdrTOhCnXdV3F655LNV8IgjJOYloGw=s64",
      "userId": "10102770296076671644"
     },
     "user_tz": -330
    },
    "id": "IGWarfHlmF4P",
    "outputId": "642af398-db47-4715-b461-67748f043fb6"
   },
   "outputs": [
    {
     "name": "stdout",
     "output_type": "stream",
     "text": [
      "sensitivity 0.9975073963827843\n"
     ]
    }
   ],
   "source": [
    "sensitivity = TP / float(FN + TP)\n",
    "print(\"sensitivity\",sensitivity)"
   ]
  },
  {
   "cell_type": "code",
   "execution_count": 27,
   "metadata": {
    "colab": {
     "base_uri": "https://localhost:8080/"
    },
    "executionInfo": {
     "elapsed": 929,
     "status": "ok",
     "timestamp": 1617451094687,
     "user": {
      "displayName": "anant deora",
      "photoUrl": "https://lh3.googleusercontent.com/a-/AOh14GjY8NoW2uQzIdrTOhCnXdV3F655LNV8IgjJOYloGw=s64",
      "userId": "10102770296076671644"
     },
     "user_tz": -330
    },
    "id": "9owpcQYLmKAi",
    "outputId": "07576672-ba82-4cc4-e4a3-975223828e1f"
   },
   "outputs": [
    {
     "name": "stdout",
     "output_type": "stream",
     "text": [
      "specificity 0.11998882754994743\n"
     ]
    }
   ],
   "source": [
    "specificity = TN / float(TN + FP)\n",
    "print(\"specificity\",specificity)"
   ]
  },
  {
   "cell_type": "code",
   "execution_count": 28,
   "metadata": {
    "colab": {
     "base_uri": "https://localhost:8080/"
    },
    "executionInfo": {
     "elapsed": 909,
     "status": "ok",
     "timestamp": 1617451119717,
     "user": {
      "displayName": "anant deora",
      "photoUrl": "https://lh3.googleusercontent.com/a-/AOh14GjY8NoW2uQzIdrTOhCnXdV3F655LNV8IgjJOYloGw=s64",
      "userId": "10102770296076671644"
     },
     "user_tz": -330
    },
    "id": "lW51-gGpmQ7Z",
    "outputId": "4ffd6500-6510-47f7-b085-eb1e4e66724d"
   },
   "outputs": [
    {
     "name": "stdout",
     "output_type": "stream",
     "text": [
      "precision 0.8045675462665655\n",
      "0.8045675462665655\n"
     ]
    }
   ],
   "source": [
    "precision = TP / float(TP + FP)\n",
    "print(\"precision\",precision)\n",
    "print(metrics.precision_score(y_test, y_pred_class))"
   ]
  },
  {
   "cell_type": "code",
   "execution_count": 29,
   "metadata": {
    "colab": {
     "base_uri": "https://localhost:8080/"
    },
    "executionInfo": {
     "elapsed": 1577,
     "status": "ok",
     "timestamp": 1617451147144,
     "user": {
      "displayName": "anant deora",
      "photoUrl": "https://lh3.googleusercontent.com/a-/AOh14GjY8NoW2uQzIdrTOhCnXdV3F655LNV8IgjJOYloGw=s64",
      "userId": "10102770296076671644"
     },
     "user_tz": -330
    },
    "id": "HppJI6pimXC0",
    "outputId": "b629d39e-fc68-400c-c01a-8e0c05c543ee"
   },
   "outputs": [
    {
     "name": "stdout",
     "output_type": "stream",
     "text": [
      "precision 0.8045675462665655\n",
      "PRECISION SCORE : 0.8045675462665655\n",
      "RECALL SCORE : 0.9975073963827843\n",
      "F1 SCORE : 0.890708881519153\n"
     ]
    }
   ],
   "source": [
    "print(\"precision\",precision)\n",
    "print(\"PRECISION SCORE :\",metrics.precision_score(y_test, y_pred_class))\n",
    "print(\"RECALL SCORE :\", metrics.recall_score(y_test, y_pred_class))\n",
    "print(\"F1 SCORE :\",metrics.f1_score(y_test, y_pred_class))"
   ]
  },
  {
   "cell_type": "code",
   "execution_count": 30,
   "metadata": {
    "colab": {
     "base_uri": "https://localhost:8080/"
    },
    "executionInfo": {
     "elapsed": 1057,
     "status": "ok",
     "timestamp": 1617451166386,
     "user": {
      "displayName": "anant deora",
      "photoUrl": "https://lh3.googleusercontent.com/a-/AOh14GjY8NoW2uQzIdrTOhCnXdV3F655LNV8IgjJOYloGw=s64",
      "userId": "10102770296076671644"
     },
     "user_tz": -330
    },
    "id": "01x-tVFBmdk5",
    "outputId": "28179980-cae2-409c-dd0c-96e74fc033c1"
   },
   "outputs": [
    {
     "data": {
      "text/plain": [
       "array([1, 1, 1, ..., 1, 1, 1])"
      ]
     },
     "execution_count": 30,
     "metadata": {
      "tags": []
     },
     "output_type": "execute_result"
    }
   ],
   "source": [
    "y_pred_class"
   ]
  },
  {
   "cell_type": "code",
   "execution_count": 31,
   "metadata": {
    "colab": {
     "base_uri": "https://localhost:8080/"
    },
    "executionInfo": {
     "elapsed": 920,
     "status": "ok",
     "timestamp": 1617451176689,
     "user": {
      "displayName": "anant deora",
      "photoUrl": "https://lh3.googleusercontent.com/a-/AOh14GjY8NoW2uQzIdrTOhCnXdV3F655LNV8IgjJOYloGw=s64",
      "userId": "10102770296076671644"
     },
     "user_tz": -330
    },
    "id": "-NNpE64VmiZt",
    "outputId": "0cb431ec-ef13-4521-c926-e9431e5a90b0"
   },
   "outputs": [
    {
     "data": {
      "text/plain": [
       "array([[0.03049389, 0.96950611],\n",
       "       [0.04112353, 0.95887647],\n",
       "       [0.07131486, 0.92868514],\n",
       "       ...,\n",
       "       [0.07219965, 0.92780035],\n",
       "       [0.01673852, 0.98326148],\n",
       "       [0.01984825, 0.98015175]])"
      ]
     },
     "execution_count": 31,
     "metadata": {
      "tags": []
     },
     "output_type": "execute_result"
    }
   ],
   "source": [
    "y_pred_proba"
   ]
  },
  {
   "cell_type": "code",
   "execution_count": 32,
   "metadata": {
    "executionInfo": {
     "elapsed": 1152,
     "status": "ok",
     "timestamp": 1617451193303,
     "user": {
      "displayName": "anant deora",
      "photoUrl": "https://lh3.googleusercontent.com/a-/AOh14GjY8NoW2uQzIdrTOhCnXdV3F655LNV8IgjJOYloGw=s64",
      "userId": "10102770296076671644"
     },
     "user_tz": -330
    },
    "id": "xmCe1PAXmk8y"
   },
   "outputs": [],
   "source": [
    "# creating an ROC curve\n",
    "from sklearn.metrics import confusion_matrix as sk_confusion_matrix\n",
    "from sklearn.metrics import roc_curve, auc\n",
    "import matplotlib.pyplot as plt\n",
    "\n",
    "false_positive_rate, true_positive_rate, thresholds = roc_curve(y_test, y_pred_proba[:,1])\n",
    "roc_auc = auc(false_positive_rate, true_positive_rate)"
   ]
  },
  {
   "cell_type": "code",
   "execution_count": 33,
   "metadata": {
    "colab": {
     "base_uri": "https://localhost:8080/"
    },
    "executionInfo": {
     "elapsed": 1070,
     "status": "ok",
     "timestamp": 1617451207011,
     "user": {
      "displayName": "anant deora",
      "photoUrl": "https://lh3.googleusercontent.com/a-/AOh14GjY8NoW2uQzIdrTOhCnXdV3F655LNV8IgjJOYloGw=s64",
      "userId": "10102770296076671644"
     },
     "user_tz": -330
    },
    "id": "u6pG4Ekrmo8v",
    "outputId": "f209f2df-fa3a-44b3-db38-9d9b0eaa2360"
   },
   "outputs": [
    {
     "name": "stdout",
     "output_type": "stream",
     "text": [
      "0.9235501034731183\n"
     ]
    }
   ],
   "source": [
    "# area under the curve\n",
    "print (roc_auc)"
   ]
  },
  {
   "cell_type": "code",
   "execution_count": 34,
   "metadata": {
    "colab": {
     "base_uri": "https://localhost:8080/",
     "height": 402
    },
    "executionInfo": {
     "elapsed": 1176,
     "status": "ok",
     "timestamp": 1617451227190,
     "user": {
      "displayName": "anant deora",
      "photoUrl": "https://lh3.googleusercontent.com/a-/AOh14GjY8NoW2uQzIdrTOhCnXdV3F655LNV8IgjJOYloGw=s64",
      "userId": "10102770296076671644"
     },
     "user_tz": -330
    },
    "id": "2EJmpYeVmsUO",
    "outputId": "7ab0811b-dc3f-4deb-9bae-5ca64254558b"
   },
   "outputs": [
    {
     "data": {
      "text/html": [
       "<div>\n",
       "<style scoped>\n",
       "    .dataframe tbody tr th:only-of-type {\n",
       "        vertical-align: middle;\n",
       "    }\n",
       "\n",
       "    .dataframe tbody tr th {\n",
       "        vertical-align: top;\n",
       "    }\n",
       "\n",
       "    .dataframe thead th {\n",
       "        text-align: right;\n",
       "    }\n",
       "</style>\n",
       "<table border=\"1\" class=\"dataframe\">\n",
       "  <thead>\n",
       "    <tr style=\"text-align: right;\">\n",
       "      <th></th>\n",
       "      <th>Threshold</th>\n",
       "      <th>TPR</th>\n",
       "      <th>FPR</th>\n",
       "    </tr>\n",
       "  </thead>\n",
       "  <tbody>\n",
       "    <tr>\n",
       "      <th>0</th>\n",
       "      <td>1.999811</td>\n",
       "      <td>0.000000</td>\n",
       "      <td>0.000000</td>\n",
       "    </tr>\n",
       "    <tr>\n",
       "      <th>1</th>\n",
       "      <td>0.999811</td>\n",
       "      <td>0.000005</td>\n",
       "      <td>0.000000</td>\n",
       "    </tr>\n",
       "    <tr>\n",
       "      <th>2</th>\n",
       "      <td>0.999626</td>\n",
       "      <td>0.000018</td>\n",
       "      <td>0.000000</td>\n",
       "    </tr>\n",
       "    <tr>\n",
       "      <th>3</th>\n",
       "      <td>0.999575</td>\n",
       "      <td>0.000027</td>\n",
       "      <td>0.000000</td>\n",
       "    </tr>\n",
       "    <tr>\n",
       "      <th>4</th>\n",
       "      <td>0.999449</td>\n",
       "      <td>0.000054</td>\n",
       "      <td>0.000000</td>\n",
       "    </tr>\n",
       "    <tr>\n",
       "      <th>...</th>\n",
       "      <td>...</td>\n",
       "      <td>...</td>\n",
       "      <td>...</td>\n",
       "    </tr>\n",
       "    <tr>\n",
       "      <th>56146</th>\n",
       "      <td>0.000039</td>\n",
       "      <td>0.999995</td>\n",
       "      <td>0.999819</td>\n",
       "    </tr>\n",
       "    <tr>\n",
       "      <th>56147</th>\n",
       "      <td>0.000038</td>\n",
       "      <td>0.999995</td>\n",
       "      <td>0.999852</td>\n",
       "    </tr>\n",
       "    <tr>\n",
       "      <th>56148</th>\n",
       "      <td>0.000032</td>\n",
       "      <td>1.000000</td>\n",
       "      <td>0.999852</td>\n",
       "    </tr>\n",
       "    <tr>\n",
       "      <th>56149</th>\n",
       "      <td>0.000009</td>\n",
       "      <td>1.000000</td>\n",
       "      <td>0.999967</td>\n",
       "    </tr>\n",
       "    <tr>\n",
       "      <th>56150</th>\n",
       "      <td>0.000009</td>\n",
       "      <td>1.000000</td>\n",
       "      <td>1.000000</td>\n",
       "    </tr>\n",
       "  </tbody>\n",
       "</table>\n",
       "<p>56151 rows × 3 columns</p>\n",
       "</div>"
      ],
      "text/plain": [
       "       Threshold       TPR       FPR\n",
       "0       1.999811  0.000000  0.000000\n",
       "1       0.999811  0.000005  0.000000\n",
       "2       0.999626  0.000018  0.000000\n",
       "3       0.999575  0.000027  0.000000\n",
       "4       0.999449  0.000054  0.000000\n",
       "...          ...       ...       ...\n",
       "56146   0.000039  0.999995  0.999819\n",
       "56147   0.000038  0.999995  0.999852\n",
       "56148   0.000032  1.000000  0.999852\n",
       "56149   0.000009  1.000000  0.999967\n",
       "56150   0.000009  1.000000  1.000000\n",
       "\n",
       "[56151 rows x 3 columns]"
      ]
     },
     "execution_count": 34,
     "metadata": {
      "tags": []
     },
     "output_type": "execute_result"
    }
   ],
   "source": [
    "# matrix of thresholds, tpr, fpr\n",
    "pd.DataFrame({'Threshold': thresholds, \n",
    "              'TPR': true_positive_rate, \n",
    "              'FPR':false_positive_rate\n",
    "             })"
   ]
  },
  {
   "cell_type": "code",
   "execution_count": 35,
   "metadata": {
    "colab": {
     "base_uri": "https://localhost:8080/",
     "height": 295
    },
    "executionInfo": {
     "elapsed": 971,
     "status": "ok",
     "timestamp": 1617451258722,
     "user": {
      "displayName": "anant deora",
      "photoUrl": "https://lh3.googleusercontent.com/a-/AOh14GjY8NoW2uQzIdrTOhCnXdV3F655LNV8IgjJOYloGw=s64",
      "userId": "10102770296076671644"
     },
     "user_tz": -330
    },
    "id": "mrRZsWhCmxNw",
    "outputId": "ec4c1aea-bc60-453b-8fb0-e5e5f42f6400"
   },
   "outputs": [
    {
     "data": {
      "image/png": "[encoded data removed]",
      "text/plain": [
       "<Figure size 432x288 with 1 Axes>"
      ]
     },
     "metadata": {
      "needs_background": "light",
      "tags": []
     },
     "output_type": "display_data"
    }
   ],
   "source": [
    "# plotting the ROC curve\n",
    "%matplotlib inline  \n",
    "plt.ylabel('True Positive Rate')\n",
    "plt.xlabel('False Positive Rate')\n",
    "plt.title('ROC')\n",
    "plt.plot(false_positive_rate, true_positive_rate)\n",
    "plt.show()"
   ]
  },
  {
   "cell_type": "markdown",
   "metadata": {
    "id": "LVze5P3bpfrv"
   },
   "source": [
    "## End of Model Evaluation"
   ]
  }
 ],
 "metadata": {
  "colab": {
   "authorship_tag": "ABX9TyPvzEUjzWlktYuxuM6Z7ta4",
   "name": "Capstone+Sentiment+Analysis+NB+Classification+Model.ipynb",
   "provenance": []
  },
  "kernelspec": {
   "display_name": "Python 3",
   "language": "python",
   "name": "python3"
  },
  "language_info": {
   "codemirror_mode": {
    "name": "ipython",
    "version": 3
   },
   "file_extension": ".py",
   "mimetype": "text/x-python",
   "name": "python",
   "nbconvert_exporter": "python",
   "pygments_lexer": "ipython3",
   "version": "3.8.8"
  }
 },
 "nbformat": 4,
 "nbformat_minor": 1
}
